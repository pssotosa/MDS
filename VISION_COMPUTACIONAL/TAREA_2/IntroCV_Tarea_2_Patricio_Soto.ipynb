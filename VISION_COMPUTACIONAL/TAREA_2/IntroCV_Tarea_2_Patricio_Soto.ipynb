{
 "cells": [
  {
   "cell_type": "markdown",
   "metadata": {},
   "source": [
    "## Introducción a la Visión Computacional\n",
    "## Tarea 2\n",
    "-----------------------\n",
    "<div align=\"right\">\n",
    "Fecha de Entrega: Viernes 29, Abril 2022.\n",
    "</div>"
   ]
  },
  {
   "cell_type": "markdown",
   "metadata": {},
   "source": [
    "1. Diseñar un flujo de procesamiento a nivel abstracto: adquisición de imágenes, pre-procesamiento, procesamiento de imágenes, cálculo de la medición, almacenamiento.\n",
    "\n",
    "2. Con la base de datos seleccionada, implementar un sistema de reconocimiento y/o procesamiento en el cual se realice una medida o inferencia sobre imagen. Puede ser la detección de un objeto, medición de distancias entre píxeles de alguna característica, medición del tamaño de algún objeto (en cantidad de píxeles) clasificación de la imagen, entre otros.\n",
    "\n",
    "3. Para procesar el conjunto completo de imágenes, medir los tiempos de ejecución del proceso completo. Realizar la medición para el 50% y el 100% de la imágenes varias veces, de manera de obtener algunas figuras estadísticas: tiempo máximo, tiempo mínimo, tiempo medio, desviación estándar del tiempo.\n",
    "\n",
    "4. Hacer resumen de los resultados del procesamiento. Para ello debe decidir una métrica para indicar si el procesamiento es satisfactorio. Para esto último algunas veces es necesario hacer la evaluación en forma manual, por lo tanto, si fuera este el caso, seleccionar un sub-conjunto de las imágenes (por ejemplo, unas 50) y comparar el desempeño del algoritmo en estas imágenes.\n",
    "\n",
    "5. Escribir un informe o entregar el notebook con comentarios y documentación, incluyendo el análisis (comentando) los resultados.\n",
    "\n",
    "Nota: de percatarse que el set de imágenes propuesto en la Tarea 1 no es el adecuado, se puede realizar un cambio en el dataset. Justificar el cambio. Este tipo de decisiones puede ocurrir en un proyecto."
   ]
  },
  {
   "cell_type": "markdown",
   "metadata": {},
   "source": [
    "*************************************************************************************"
   ]
  },
  {
   "cell_type": "markdown",
   "metadata": {},
   "source": [
    "En esta ocacion continuaremos complementando el codigo que se trabajo en la tarea 1. Eso si, complementamoe el dataset con mas imagenes, tanto de imagenes con fuego y sin fuego, para compara el resultado. Esto no solucionara el problema de los falsos positivos, lo cual solo seria solucionado mediante tecnicas de redes neuronales, lo que se busca en este momento medir al algoritmo actual en sus tiempos de respuesta y su presicion."
   ]
  },
  {
   "cell_type": "code",
   "execution_count": 428,
   "metadata": {},
   "outputs": [],
   "source": [
    "import glob\n",
    "from pathlib import Path\n",
    "from PIL import Image, ImageFilter, ImageStat\n",
    "import numpy as np\n",
    "import cv2\n",
    "import pandas as pd\n",
    "import time"
   ]
  },
  {
   "cell_type": "code",
   "execution_count": 506,
   "metadata": {},
   "outputs": [],
   "source": [
    "_RESIZE_PERCENT = 0.3 #tamaño de la imagen al procesarla\n",
    "_THRESHOLD = 200 #luminocidad valida del pixel al momento de procesar\n",
    "_TYPES_IMG = ('*.jpg', '*.png') #\n",
    "\n",
    "firePxlsMinPercent = 0.01 # mas de 1% de \"fuego\" o \"posible fuego\" dara como resultado OK."
   ]
  },
  {
   "cell_type": "code",
   "execution_count": 375,
   "metadata": {},
   "outputs": [],
   "source": [
    "def isFireinImg(img, firePxlsMinPercent):\n",
    "    img_processed = img.convert('L')\n",
    "    img_processed = img_processed.filter(ImageFilter.GaussianBlur(5))\n",
    "    img_processed = img_processed.point(lambda pxl: 255 if pxl > _THRESHOLD else 0)\n",
    "    img_processed = img_processed.convert('1')\n",
    "    img_numpy = np.array(img_processed)\n",
    "    if np.sum(img_numpy!=False) / img_numpy.size > firePxlsMinPercent:\n",
    "        return True\n",
    "    return False\n",
    "    #return img_processed, np.sum(img_numpy!=False) / img_numpy.size\n",
    "\n",
    "def resize_img(img, _RESIZE_PERCENT):\n",
    "    x = img.size[0] * _RESIZE_PERCENT\n",
    "    y = img.size[1] * _RESIZE_PERCENT\n",
    "    img_processed = img.resize((int(round(x,0)),int(round(y,0))))\n",
    "    return img_processed"
   ]
  },
  {
   "cell_type": "code",
   "execution_count": 67,
   "metadata": {},
   "outputs": [],
   "source": [
    "def read_all_imgs(resize=True):\n",
    "    classes = ['non_fire_images','fire_images']\n",
    "    retorna = {}\n",
    "    for c in classes:\n",
    "        images=[]\n",
    "        for img_path in glob.glob(r'.\\fire_dataset\\{0}\\*.png'.format(c)):\n",
    "            print('.', end='')\n",
    "            try:\n",
    "                img = Image.open(img_path) #leemos la imagen\n",
    "                if resize:\n",
    "                    img = resize_img(img, _RESIZE_PERCENT) #cambiamos tamaño para mejorar tiempos de procesamiento\n",
    "                images.append(img) # se guarda en memoria imagen con tamaño cambiado\n",
    "            except Exception as e:\n",
    "                print('\\nError de lectura con {0}'.format(e), end='\\t')\n",
    "                pass\n",
    "        retorna[c] = images\n",
    "    return retorna\n",
    "    "
   ]
  },
  {
   "cell_type": "code",
   "execution_count": 68,
   "metadata": {},
   "outputs": [
    {
     "name": "stdout",
     "output_type": "stream",
     "text": [
      "......................................................................................................................................................................................................................................................................................................................................................................................................................................................................................................................................................................................................................................................................................................................................................................................................................................................................................................................................................................................................................................."
     ]
    }
   ],
   "source": [
    "datasets = read_all_imgs()"
   ]
  },
  {
   "cell_type": "code",
   "execution_count": 387,
   "metadata": {},
   "outputs": [
    {
     "name": "stdout",
     "output_type": "stream",
     "text": [
      "Existen 244 imagenes que NO contienen fuego.\n",
      "Existen 755 imagenes que SI contienen fuego.\n"
     ]
    }
   ],
   "source": [
    "q_non_fire = len(datasets.get('non_fire_images'))\n",
    "q_fire     = len(datasets.get('fire_images'))\n",
    "print('Existen {} imagenes que NO contienen fuego.'.format(q_non_fire))\n",
    "print('Existen {} imagenes que SI contienen fuego.'.format(q_fire))"
   ]
  },
  {
   "cell_type": "code",
   "execution_count": 493,
   "metadata": {},
   "outputs": [],
   "source": [
    "# obtencion de metricas de tiempo imagenes\n",
    "def obtener_metricas_repeticiones(clase, porcentaje=1, q_repeticiones=50):\n",
    "    fire_results_epoch = []\n",
    "    time_epoch         = []\n",
    "    if clase == 'fire_images': \n",
    "        q_imagenes = int(q_fire*porcentaje)\n",
    "        result_value = True\n",
    "    if clase == 'non_fire_images': \n",
    "        q_imagenes = int(q_non_fire*porcentaje)\n",
    "        result_value = False\n",
    "        \n",
    "    for epoch in range(q_repeticiones):\n",
    "        start = time.time()\n",
    "        resultado = []\n",
    "        for img in datasets.get(clase)[:q_imagenes]:\n",
    "            resultado.append(isFireinImg(img, firePxlsMinPercent))\n",
    "        end = time.time()\n",
    "        time_process      = (end - start)\n",
    "        resultado_process = np.sum(np.array(resultado)==result_value)/q_imagenes\n",
    "        fire_results_epoch.append(resultado_process)\n",
    "        time_epoch.append(time_process)\n",
    "        print('.', end='')\n",
    "        \n",
    "    df_result = pd.DataFrame(tuple(zip(time_epoch,fire_results_epoch)),  columns=['time','accuracy'])\n",
    "    df_result = df_result.reset_index().rename(columns={'index':'epoch'})\n",
    "    df_result.insert(0,'percentage', porcentaje)\n",
    "    df_result.insert(0,'class', clase)\n",
    "    return df_result\n",
    "    "
   ]
  },
  {
   "cell_type": "code",
   "execution_count": 494,
   "metadata": {},
   "outputs": [
    {
     "name": "stdout",
     "output_type": "stream",
     "text": [
      "................................................................................................................................................................................................................................................................................................................................................................................................................Wall time: 8min 54s\n"
     ]
    },
    {
     "data": {
      "text/html": [
       "<div>\n",
       "<style scoped>\n",
       "    .dataframe tbody tr th:only-of-type {\n",
       "        vertical-align: middle;\n",
       "    }\n",
       "\n",
       "    .dataframe tbody tr th {\n",
       "        vertical-align: top;\n",
       "    }\n",
       "\n",
       "    .dataframe thead th {\n",
       "        text-align: right;\n",
       "    }\n",
       "</style>\n",
       "<table border=\"1\" class=\"dataframe\">\n",
       "  <thead>\n",
       "    <tr style=\"text-align: right;\">\n",
       "      <th></th>\n",
       "      <th>class</th>\n",
       "      <th>percentage</th>\n",
       "      <th>epoch</th>\n",
       "      <th>time</th>\n",
       "      <th>accuracy</th>\n",
       "    </tr>\n",
       "  </thead>\n",
       "  <tbody>\n",
       "    <tr>\n",
       "      <th>0</th>\n",
       "      <td>fire_images</td>\n",
       "      <td>0.5</td>\n",
       "      <td>0</td>\n",
       "      <td>1.218469</td>\n",
       "      <td>0.498674</td>\n",
       "    </tr>\n",
       "    <tr>\n",
       "      <th>1</th>\n",
       "      <td>fire_images</td>\n",
       "      <td>0.5</td>\n",
       "      <td>1</td>\n",
       "      <td>1.132993</td>\n",
       "      <td>0.498674</td>\n",
       "    </tr>\n",
       "    <tr>\n",
       "      <th>2</th>\n",
       "      <td>fire_images</td>\n",
       "      <td>0.5</td>\n",
       "      <td>2</td>\n",
       "      <td>1.218817</td>\n",
       "      <td>0.498674</td>\n",
       "    </tr>\n",
       "    <tr>\n",
       "      <th>3</th>\n",
       "      <td>fire_images</td>\n",
       "      <td>0.5</td>\n",
       "      <td>3</td>\n",
       "      <td>1.156069</td>\n",
       "      <td>0.498674</td>\n",
       "    </tr>\n",
       "    <tr>\n",
       "      <th>4</th>\n",
       "      <td>fire_images</td>\n",
       "      <td>0.5</td>\n",
       "      <td>4</td>\n",
       "      <td>1.149642</td>\n",
       "      <td>0.498674</td>\n",
       "    </tr>\n",
       "  </tbody>\n",
       "</table>\n",
       "</div>"
      ],
      "text/plain": [
       "         class  percentage  epoch      time  accuracy\n",
       "0  fire_images         0.5      0  1.218469  0.498674\n",
       "1  fire_images         0.5      1  1.132993  0.498674\n",
       "2  fire_images         0.5      2  1.218817  0.498674\n",
       "3  fire_images         0.5      3  1.156069  0.498674\n",
       "4  fire_images         0.5      4  1.149642  0.498674"
      ]
     },
     "execution_count": 494,
     "metadata": {},
     "output_type": "execute_result"
    }
   ],
   "source": [
    "%%time\n",
    "\n",
    "df_final = pd.DataFrame()\n",
    "\n",
    "df_temp  = obtener_metricas_repeticiones('fire_images', 0.5, 100)\n",
    "df_final = pd.concat([df_final,df_temp])\n",
    "df_temp  = obtener_metricas_repeticiones('fire_images', 1, 100)\n",
    "df_final = pd.concat([df_final,df_temp])\n",
    "df_temp  = obtener_metricas_repeticiones('non_fire_images', 0.5, 100)\n",
    "df_final = pd.concat([df_final,df_temp])\n",
    "df_temp  = obtener_metricas_repeticiones('non_fire_images', 1, 100)\n",
    "df_final = pd.concat([df_final,df_temp])\n",
    "\n",
    "df_final.head()"
   ]
  },
  {
   "cell_type": "code",
   "execution_count": 539,
   "metadata": {},
   "outputs": [
    {
     "name": "stdout",
     "output_type": "stream",
     "text": [
      "Resultados para 122 registros correspondiente al 50.0% de non_fire_images.\n",
      "Tiempo medio non_fire_images\t\t: 0.4494 segundos\n",
      "Tiempo minimo non_fire_images\t\t: 0.4322 segundos\n",
      "Tiempo maximo non_fire_images\t\t: 0.5325 segundos\n",
      "Desviacion Estandar Tiempo non_fire_images: 0.0121 segundos\n",
      "\n",
      "Resultados para 244 registros correspondiente al 100.0% de non_fire_images.\n",
      "Tiempo medio non_fire_images\t\t: 1.0941 segundos\n",
      "Tiempo minimo non_fire_images\t\t: 1.0617 segundos\n",
      "Tiempo maximo non_fire_images\t\t: 1.2875 segundos\n",
      "Desviacion Estandar Tiempo non_fire_images: 0.0379 segundos\n",
      "\n",
      "Resultados para 377 registros correspondiente al 50.0% de fire_images.\n",
      "Tiempo medio fire_images\t\t: 1.1429 segundos\n",
      "Tiempo minimo fire_images\t\t: 1.1048 segundos\n",
      "Tiempo maximo fire_images\t\t: 1.3234 segundos\n",
      "Desviacion Estandar Tiempo fire_images: 0.0338 segundos\n",
      "\n",
      "Resultados para 755 registros correspondiente al 100.0% de fire_images.\n",
      "Tiempo medio fire_images\t\t: 2.6616 segundos\n",
      "Tiempo minimo fire_images\t\t: 2.6012 segundos\n",
      "Tiempo maximo fire_images\t\t: 2.9405 segundos\n",
      "Desviacion Estandar Tiempo fire_images: 0.0607 segundos\n",
      "\n"
     ]
    }
   ],
   "source": [
    "# se calcular metricas de tiempo\n",
    "q_rows = {'non_fire_images': q_non_fire, 'fire_images': q_fire}\n",
    "for clase in ['non_fire_images','fire_images']:\n",
    "    for percent in [0.5,1.0]:\n",
    "        q_imagenes = int(q_rows.get(clase)*percent)\n",
    "        print('Resultados para {} registros correspondiente al {:.1%} de {}.'.format(q_imagenes, percent, clase))\n",
    "        mean_time    = df_final[(df_final['class']==clase) & (df_final['percentage']==percent)].time.mean()\n",
    "        min_time     = df_final[(df_final['class']==clase) & (df_final['percentage']==percent)].time.min()\n",
    "        max_time     = df_final[(df_final['class']==clase) & (df_final['percentage']==percent)].time.max()\n",
    "        std_time      = df_final[(df_final['class']==clase) & (df_final['percentage']==percent)].time.std()\n",
    "\n",
    "        print('Tiempo medio {0}\\t\\t: {1:.4f} segundos'.format(clase, mean_time))\n",
    "        print('Tiempo minimo {0}\\t\\t: {1:.4f} segundos'.format(clase, min_time))\n",
    "        print('Tiempo maximo {0}\\t\\t: {1:.4f} segundos'.format(clase, max_time))\n",
    "        print('Desviacion Estandar Tiempo {0}: {1:.4f} segundos'.format(clase, std_time), end='\\n\\n')\n",
    "    \n",
    "\n"
   ]
  },
  {
   "cell_type": "code",
   "execution_count": 555,
   "metadata": {},
   "outputs": [
    {
     "name": "stdout",
     "output_type": "stream",
     "text": [
      "Resultados para 122 registros correspondiente al 50.0% de non_fire_images.\n",
      "Precisión media non_fire_images: 66.39%\n",
      "Precisión minima non_fire_images: 66.39%\n",
      "Precisión maxima non_fire_images: 66.39%\n",
      "Desviacion estandar de la Precisión non_fire_images: 0.00000\n",
      "\n",
      "Resultados para 244 registros correspondiente al 100.0% de non_fire_images.\n",
      "Precisión media non_fire_images: 63.93%\n",
      "Precisión minima non_fire_images: 63.93%\n",
      "Precisión maxima non_fire_images: 63.93%\n",
      "Desviacion estandar de la Precisión non_fire_images: 0.00000\n",
      "\n",
      "Resultados para 377 registros correspondiente al 50.0% de fire_images.\n",
      "Precisión media fire_images: 49.87%\n",
      "Precisión minima fire_images: 49.87%\n",
      "Precisión maxima fire_images: 49.87%\n",
      "Desviacion estandar de la Precisión fire_images: 0.00000\n",
      "\n",
      "Resultados para 755 registros correspondiente al 100.0% de fire_images.\n",
      "Precisión media fire_images: 44.50%\n",
      "Precisión minima fire_images: 44.50%\n",
      "Precisión maxima fire_images: 44.50%\n",
      "Desviacion estandar de la Precisión fire_images: 0.00000\n",
      "\n"
     ]
    }
   ],
   "source": [
    "# se calculan metricas de precision\n",
    "q_rows = {'non_fire_images': q_non_fire, 'fire_images': q_fire}\n",
    "for clase in ['non_fire_images','fire_images']:\n",
    "    for percent in [0.5,1.0]:\n",
    "        q_imagenes = int(q_rows.get(clase)*percent)\n",
    "        print('Resultados para {} registros correspondiente al {:.1%} de {}.'.format(q_imagenes, percent, clase))\n",
    "        mean_accu = df_final[(df_final['class']==clase) & (df_final['percentage']==percent)].accuracy.mean()\n",
    "        min_accu = df_final[(df_final['class']==clase) & (df_final['percentage']==percent)].accuracy.min()\n",
    "        max_accu = df_final[(df_final['class']==clase) & (df_final['percentage']==percent)].accuracy.max()\n",
    "        std_accu = df_final[(df_final['class']==clase) & (df_final['percentage']==percent)].accuracy.std()\n",
    "        print('Precisión media {}: {:.2%}'.format(clase, mean_accu))\n",
    "        print('Precisión minima {}: {:.2%}'.format(clase, min_accu))\n",
    "        print('Precisión maxima {}: {:.2%}'.format(clase, max_accu))\n",
    "        print('Desviacion estandar de la Precisión {}: {:.5f}'.format(clase, std_accu), end='\\n\\n')\n",
    "        \n",
    "        \n",
    "        "
   ]
  },
  {
   "cell_type": "markdown",
   "metadata": {},
   "source": [
    "**********************************\n",
    "Conclusiones: "
   ]
  },
  {
   "cell_type": "markdown",
   "metadata": {},
   "source": [
    "En total se procesaron 244 imágenes que NO contienen fuego y 755 imágenes que, SI contienen fuego, esto da un total de 999 imágenes, las cuales pasaron por 100 ciclos de procesamiento para obtener las métricas, dando 99.900 repeticiones para el total del dataset y de 49.900 repeticiones para el 50% del dataset, sumando 149.800 repeticiones en total, todo esto en 8min 54s.\n",
    "\n",
    "Cuando analizamos los resultados por clúster de trabajo, dentro de los resultados de las métricas de medición podemos ver que los tiempos de trabajo no varían demasiado entre cada repetición, esto se ve demostrado en las desviaciones estándares bajas, esta desviación estándar tiende a subir al procesar mayor cantidad de registros (50% vs 100%). De igual manera no superan el 0.1. (Más arriba se ven los resultados en detalle)\n",
    "\n",
    "Cuando revisamos los resultados de la precisión, esta tiene una desviación estándar de 0, teniendo los porcentajes de precisión entre el mínimo el máximo igual, esto quiere decir en cada uno de las 100 repeticiones el resultado fue el mismo, lo que confirma la estabilidad del algoritmo. Aunque el algoritmo este estable su precisión de igual manera no es la esperada ya que si bien cumplió con el 63,93% de aciertos con el dataset de imágenes con fuego, este solo llego al 44,5% en las imágenes que no tienen fuego (si non_fire_image contiene fuego es falso lo considera como cumplimiento).\n",
    "Este resultado nos demuestra que no es suficiente la técnica para tener un clasificador de imágenes de fuego eficiente.\n",
    "\n",
    "Link Codigo e Imagenes: "
   ]
  },
  {
   "cell_type": "code",
   "execution_count": null,
   "metadata": {},
   "outputs": [],
   "source": []
  }
 ],
 "metadata": {
  "kernelspec": {
   "display_name": "Python 3",
   "language": "python",
   "name": "python3"
  },
  "language_info": {
   "codemirror_mode": {
    "name": "ipython",
    "version": 3
   },
   "file_extension": ".py",
   "mimetype": "text/x-python",
   "name": "python",
   "nbconvert_exporter": "python",
   "pygments_lexer": "ipython3",
   "version": "3.8.8"
  }
 },
 "nbformat": 4,
 "nbformat_minor": 4
}
